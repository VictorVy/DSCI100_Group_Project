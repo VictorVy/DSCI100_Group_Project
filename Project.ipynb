{
 "cells": [
  {
   "cell_type": "code",
   "execution_count": 1,
   "id": "3e1e8d8b-3b71-428a-bb02-67a091dfe031",
   "metadata": {},
   "outputs": [
    {
     "name": "stderr",
     "output_type": "stream",
     "text": [
      "── \u001b[1mAttaching packages\u001b[22m ─────────────────────────────────────── tidyverse 1.3.1 ──\n",
      "\n",
      "\u001b[32m✔\u001b[39m \u001b[34mggplot2\u001b[39m 3.3.6     \u001b[32m✔\u001b[39m \u001b[34mpurrr  \u001b[39m 0.3.4\n",
      "\u001b[32m✔\u001b[39m \u001b[34mtibble \u001b[39m 3.1.7     \u001b[32m✔\u001b[39m \u001b[34mdplyr  \u001b[39m 1.0.9\n",
      "\u001b[32m✔\u001b[39m \u001b[34mtidyr  \u001b[39m 1.2.0     \u001b[32m✔\u001b[39m \u001b[34mstringr\u001b[39m 1.4.0\n",
      "\u001b[32m✔\u001b[39m \u001b[34mreadr  \u001b[39m 2.1.2     \u001b[32m✔\u001b[39m \u001b[34mforcats\u001b[39m 0.5.1\n",
      "\n",
      "── \u001b[1mConflicts\u001b[22m ────────────────────────────────────────── tidyverse_conflicts() ──\n",
      "\u001b[31m✖\u001b[39m \u001b[34mdplyr\u001b[39m::\u001b[32mfilter()\u001b[39m masks \u001b[34mstats\u001b[39m::filter()\n",
      "\u001b[31m✖\u001b[39m \u001b[34mdplyr\u001b[39m::\u001b[32mlag()\u001b[39m    masks \u001b[34mstats\u001b[39m::lag()\n",
      "\n",
      "\n",
      "Attaching package: ‘testthat’\n",
      "\n",
      "\n",
      "The following object is masked from ‘package:dplyr’:\n",
      "\n",
      "    matches\n",
      "\n",
      "\n",
      "The following object is masked from ‘package:purrr’:\n",
      "\n",
      "    is_null\n",
      "\n",
      "\n",
      "The following objects are masked from ‘package:readr’:\n",
      "\n",
      "    edition_get, local_edition\n",
      "\n",
      "\n",
      "The following object is masked from ‘package:tidyr’:\n",
      "\n",
      "    matches\n",
      "\n",
      "\n",
      "── \u001b[1mAttaching packages\u001b[22m ────────────────────────────────────── tidymodels 1.0.0 ──\n",
      "\n",
      "\u001b[32m✔\u001b[39m \u001b[34mbroom       \u001b[39m 1.0.0     \u001b[32m✔\u001b[39m \u001b[34mrsample     \u001b[39m 1.0.0\n",
      "\u001b[32m✔\u001b[39m \u001b[34mdials       \u001b[39m 1.0.0     \u001b[32m✔\u001b[39m \u001b[34mtune        \u001b[39m 1.0.0\n",
      "\u001b[32m✔\u001b[39m \u001b[34minfer       \u001b[39m 1.0.2     \u001b[32m✔\u001b[39m \u001b[34mworkflows   \u001b[39m 1.0.0\n",
      "\u001b[32m✔\u001b[39m \u001b[34mmodeldata   \u001b[39m 1.0.0     \u001b[32m✔\u001b[39m \u001b[34mworkflowsets\u001b[39m 1.0.0\n",
      "\u001b[32m✔\u001b[39m \u001b[34mparsnip     \u001b[39m 1.0.0     \u001b[32m✔\u001b[39m \u001b[34myardstick   \u001b[39m 1.0.0\n",
      "\u001b[32m✔\u001b[39m \u001b[34mrecipes     \u001b[39m 1.0.1     \n",
      "\n",
      "── \u001b[1mConflicts\u001b[22m ───────────────────────────────────────── tidymodels_conflicts() ──\n",
      "\u001b[31m✖\u001b[39m \u001b[34mscales\u001b[39m::\u001b[32mdiscard()\u001b[39m   masks \u001b[34mpurrr\u001b[39m::discard()\n",
      "\u001b[31m✖\u001b[39m \u001b[34mdplyr\u001b[39m::\u001b[32mfilter()\u001b[39m     masks \u001b[34mstats\u001b[39m::filter()\n",
      "\u001b[31m✖\u001b[39m \u001b[34mrecipes\u001b[39m::\u001b[32mfixed()\u001b[39m    masks \u001b[34mstringr\u001b[39m::fixed()\n",
      "\u001b[31m✖\u001b[39m \u001b[34mtestthat\u001b[39m::\u001b[32mis_null()\u001b[39m masks \u001b[34mpurrr\u001b[39m::is_null()\n",
      "\u001b[31m✖\u001b[39m \u001b[34mdplyr\u001b[39m::\u001b[32mlag()\u001b[39m        masks \u001b[34mstats\u001b[39m::lag()\n",
      "\u001b[31m✖\u001b[39m \u001b[34mrsample\u001b[39m::\u001b[32mmatches()\u001b[39m  masks \u001b[34mtestthat\u001b[39m::matches(), \u001b[34mdplyr\u001b[39m::matches(), \u001b[34mtidyr\u001b[39m::matches()\n",
      "\u001b[31m✖\u001b[39m \u001b[34myardstick\u001b[39m::\u001b[32mspec()\u001b[39m   masks \u001b[34mreadr\u001b[39m::spec()\n",
      "\u001b[31m✖\u001b[39m \u001b[34mrecipes\u001b[39m::\u001b[32mstep()\u001b[39m     masks \u001b[34mstats\u001b[39m::step()\n",
      "\u001b[34m•\u001b[39m Use \u001b[32mtidymodels_prefer()\u001b[39m to resolve common conflicts.\n",
      "\n",
      "Registered S3 method overwritten by 'GGally':\n",
      "  method from   \n",
      "  +.gg   ggplot2\n",
      "\n"
     ]
    }
   ],
   "source": [
    "# loading libraries\n",
    "\n",
    "library(tidyverse)\n",
    "library(testthat)\n",
    "library(digest)\n",
    "library(repr)\n",
    "library(tidymodels)\n",
    "library(GGally)\n",
    "library(ISLR)\n",
    "options(repr.matrix.max.rows = 6)\n",
    "\n",
    "set.seed(20)\n",
    "\n",
    "options(repr.matrix.max.rows = 7)"
   ]
  },
  {
   "cell_type": "code",
   "execution_count": 2,
   "id": "90ac64c7-1608-47c7-97ff-0501b88ba6e5",
   "metadata": {},
   "outputs": [
    {
     "name": "stderr",
     "output_type": "stream",
     "text": [
      "\u001b[1m\u001b[22mNew names:\n",
      "\u001b[36m•\u001b[39m `` -> `...1`\n",
      "\u001b[1mRows: \u001b[22m\u001b[34m500\u001b[39m \u001b[1mColumns: \u001b[22m\u001b[34m38\u001b[39m\n",
      "\u001b[36m──\u001b[39m \u001b[1mColumn specification\u001b[22m \u001b[36m────────────────────────────────────────────────────────\u001b[39m\n",
      "\u001b[1mDelimiter:\u001b[22m \",\"\n",
      "\u001b[31mchr\u001b[39m (25): Age, Country, Plays, Wikipedia, Current Rank, Best Rank, Name, Bac...\n",
      "\u001b[32mdbl\u001b[39m (13): ...1, Turned Pro, Seasons, Titles, Best Season, Retired, Masters, ...\n",
      "\n",
      "\u001b[36mℹ\u001b[39m Use `spec()` to retrieve the full column specification for this data.\n",
      "\u001b[36mℹ\u001b[39m Specify the column types or set `show_col_types = FALSE` to quiet this message.\n"
     ]
    }
   ],
   "source": [
    "## reading data (from https://www.ultimatetennisstatistics.com/)\n",
    "\n",
    "tennis_data <- read_csv(\"https://drive.google.com/uc?export=download&id=1_MECmUXZuuILYeEOfonSGqodW6qVdhsS\")\n",
    "## organizing/tidying data\n",
    "\n",
    "colnames(tennis_data) = make.names(colnames(tennis_data))\n",
    "tennis <- tennis_data |>\n",
    "            select(Current.Rank, Age, Height) |> # select relevant variables\n",
    "            mutate(across(everything(), function(col) {gsub(\" .*\", \"\", col)})) |> # format cells\n",
    "            mutate(across(Current.Rank:Height, as.numeric)) %>% filter(Current.Rank != \"NA\", Age != \"NA\", Height != \"NA\")"
   ]
  },
  {
   "cell_type": "code",
   "execution_count": 3,
   "id": "ba0d5fa2-2cda-4728-b8e0-c3b03a1d1557",
   "metadata": {},
   "outputs": [
    {
     "data": {
      "text/html": [
       "<table class=\"dataframe\">\n",
       "<caption>A tibble: 84 × 3</caption>\n",
       "<thead>\n",
       "\t<tr><th scope=col>Current.Rank</th><th scope=col>Age</th><th scope=col>Height</th></tr>\n",
       "\t<tr><th scope=col>&lt;dbl&gt;</th><th scope=col>&lt;dbl&gt;</th><th scope=col>&lt;dbl&gt;</th></tr>\n",
       "</thead>\n",
       "<tbody>\n",
       "\t<tr><td>45</td><td>32</td><td>198</td></tr>\n",
       "\t<tr><td>12</td><td>32</td><td>178</td></tr>\n",
       "\t<tr><td>27</td><td>29</td><td>180</td></tr>\n",
       "\t<tr><td>32</td><td>29</td><td>175</td></tr>\n",
       "\t<tr><td>⋮</td><td>⋮</td><td>⋮</td></tr>\n",
       "\t<tr><td>459</td><td>29</td><td>178</td></tr>\n",
       "\t<tr><td>357</td><td>27</td><td>185</td></tr>\n",
       "\t<tr><td>313</td><td>32</td><td>190</td></tr>\n",
       "</tbody>\n",
       "</table>\n"
      ],
      "text/latex": [
       "A tibble: 84 × 3\n",
       "\\begin{tabular}{lll}\n",
       " Current.Rank & Age & Height\\\\\n",
       " <dbl> & <dbl> & <dbl>\\\\\n",
       "\\hline\n",
       "\t 45 & 32 & 198\\\\\n",
       "\t 12 & 32 & 178\\\\\n",
       "\t 27 & 29 & 180\\\\\n",
       "\t 32 & 29 & 175\\\\\n",
       "\t ⋮ & ⋮ & ⋮\\\\\n",
       "\t 459 & 29 & 178\\\\\n",
       "\t 357 & 27 & 185\\\\\n",
       "\t 313 & 32 & 190\\\\\n",
       "\\end{tabular}\n"
      ],
      "text/markdown": [
       "\n",
       "A tibble: 84 × 3\n",
       "\n",
       "| Current.Rank &lt;dbl&gt; | Age &lt;dbl&gt; | Height &lt;dbl&gt; |\n",
       "|---|---|---|\n",
       "| 45 | 32 | 198 |\n",
       "| 12 | 32 | 178 |\n",
       "| 27 | 29 | 180 |\n",
       "| 32 | 29 | 175 |\n",
       "| ⋮ | ⋮ | ⋮ |\n",
       "| 459 | 29 | 178 |\n",
       "| 357 | 27 | 185 |\n",
       "| 313 | 32 | 190 |\n",
       "\n"
      ],
      "text/plain": [
       "   Current.Rank Age Height\n",
       "1  45           32  198   \n",
       "2  12           32  178   \n",
       "3  27           29  180   \n",
       "4  32           29  175   \n",
       "⋮  ⋮            ⋮   ⋮     \n",
       "82 459          29  178   \n",
       "83 357          27  185   \n",
       "84 313          32  190   "
      ]
     },
     "metadata": {},
     "output_type": "display_data"
    }
   ],
   "source": [
    "tennis_split <- initial_split(tennis, prop = 0.75, strata = Current.Rank)\n",
    "\n",
    "tennis_training <- training(tennis_split) %>% filter\n",
    "tennis_testing <- testing(tennis_split)\n",
    "\n",
    "tennis_training"
   ]
  },
  {
   "cell_type": "code",
   "execution_count": 4,
   "id": "1c0f8492-4de0-41f6-9cdb-f563eb4ff7db",
   "metadata": {},
   "outputs": [
    {
     "data": {
      "text/html": [
       "<table class=\"dataframe\">\n",
       "<caption>A tibble: 1 × 7</caption>\n",
       "<thead>\n",
       "\t<tr><th scope=col>neighbors</th><th scope=col>.metric</th><th scope=col>.estimator</th><th scope=col>mean</th><th scope=col>n</th><th scope=col>std_err</th><th scope=col>.config</th></tr>\n",
       "\t<tr><th scope=col>&lt;int&gt;</th><th scope=col>&lt;chr&gt;</th><th scope=col>&lt;chr&gt;</th><th scope=col>&lt;dbl&gt;</th><th scope=col>&lt;int&gt;</th><th scope=col>&lt;dbl&gt;</th><th scope=col>&lt;chr&gt;</th></tr>\n",
       "</thead>\n",
       "<tbody>\n",
       "\t<tr><td>14</td><td>rmse</td><td>standard</td><td>121.8198</td><td>5</td><td>6.941103</td><td>Preprocessor1_Model14</td></tr>\n",
       "</tbody>\n",
       "</table>\n"
      ],
      "text/latex": [
       "A tibble: 1 × 7\n",
       "\\begin{tabular}{lllllll}\n",
       " neighbors & .metric & .estimator & mean & n & std\\_err & .config\\\\\n",
       " <int> & <chr> & <chr> & <dbl> & <int> & <dbl> & <chr>\\\\\n",
       "\\hline\n",
       "\t 14 & rmse & standard & 121.8198 & 5 & 6.941103 & Preprocessor1\\_Model14\\\\\n",
       "\\end{tabular}\n"
      ],
      "text/markdown": [
       "\n",
       "A tibble: 1 × 7\n",
       "\n",
       "| neighbors &lt;int&gt; | .metric &lt;chr&gt; | .estimator &lt;chr&gt; | mean &lt;dbl&gt; | n &lt;int&gt; | std_err &lt;dbl&gt; | .config &lt;chr&gt; |\n",
       "|---|---|---|---|---|---|---|\n",
       "| 14 | rmse | standard | 121.8198 | 5 | 6.941103 | Preprocessor1_Model14 |\n",
       "\n"
      ],
      "text/plain": [
       "  neighbors .metric .estimator mean     n std_err  .config              \n",
       "1 14        rmse    standard   121.8198 5 6.941103 Preprocessor1_Model14"
      ]
     },
     "metadata": {},
     "output_type": "display_data"
    }
   ],
   "source": [
    "#model, recipe, cross-validation \n",
    "knn_spec <- nearest_neighbor(weight_func = \"rectangular\",\n",
    "            neighbors = tune()) |>  \n",
    "            set_engine(\"kknn\") |>  \n",
    "            set_mode(\"regression\")\n",
    "\n",
    "tennis_age_recipe <- recipe(Current.Rank ~ Age, data = tennis_training) |>  \n",
    "            step_scale(all_predictors()) |>  \n",
    "            step_center(all_predictors())\n",
    "\n",
    "tennis_age_vfold <- vfold_cv(tennis_training, v = 5, strata = Current.Rank)\n",
    "\n",
    "tennis_age_wkflw <- workflow() |>  add_recipe(tennis_age_recipe) |>  add_model(knn_spec)\n",
    "\n",
    "#gridvals <- tibble(neighbors = seq(1, 66))\n",
    "\n",
    "tennis_age_results <- tennis_age_wkflw |>\n",
    "             tune_grid(resamples = tennis_age_vfold, grid = 65) |>\n",
    "             collect_metrics() |>\n",
    "             filter(.metric == \"rmse\")\n",
    "\n",
    "tennis_age_min <- tennis_age_results |>  filter(mean == min(mean))\n",
    "tennis_age_min"
   ]
  },
  {
   "cell_type": "code",
   "execution_count": 5,
   "id": "759223f4-8841-4a96-960e-94cfd436aabe",
   "metadata": {},
   "outputs": [
    {
     "data": {
      "text/html": [
       "128.282110151596"
      ],
      "text/latex": [
       "128.282110151596"
      ],
      "text/markdown": [
       "128.282110151596"
      ],
      "text/plain": [
       "[1] 128.2821"
      ]
     },
     "metadata": {},
     "output_type": "display_data"
    }
   ],
   "source": [
    "#Retrain data on training set, then predict with testing\n",
    "\n",
    "#re-train KNN regression model on the training data set\n",
    "tennis_age_spec <- nearest_neighbor(weight_func = \"rectangular\", neighbors = 15) |>  \n",
    "            set_engine(\"kknn\") |>  \n",
    "            set_mode(\"regression\")\n",
    "\n",
    "tennis_age_fit <- workflow() |>  \n",
    "        add_recipe(tennis_age_recipe) |>  \n",
    "        add_model(tennis_age_spec) |>  \n",
    "        fit(data = tennis_training)\n",
    "\n",
    "#predict rmpse with testing\n",
    "tennis_age_rmspe <- tennis_age_fit |>  \n",
    "            predict(tennis_testing) |>  \n",
    "            bind_cols(tennis_testing) |>  \n",
    "            metrics(truth = Current.Rank, estimate = .pred) |>  \n",
    "            filter(.metric == 'rmse') |>\n",
    "            select(.estimate) |>\n",
    "            pull()\n",
    "tennis_age_rmspe"
   ]
  },
  {
   "cell_type": "code",
   "execution_count": 6,
   "id": "35e2530c-0271-47b6-9648-2d30bcb3d407",
   "metadata": {},
   "outputs": [
    {
     "data": {
      "text/html": [
       "<table class=\"dataframe\">\n",
       "<caption>A tibble: 1 × 7</caption>\n",
       "<thead>\n",
       "\t<tr><th scope=col>neighbors</th><th scope=col>.metric</th><th scope=col>.estimator</th><th scope=col>mean</th><th scope=col>n</th><th scope=col>std_err</th><th scope=col>.config</th></tr>\n",
       "\t<tr><th scope=col>&lt;int&gt;</th><th scope=col>&lt;chr&gt;</th><th scope=col>&lt;chr&gt;</th><th scope=col>&lt;dbl&gt;</th><th scope=col>&lt;int&gt;</th><th scope=col>&lt;dbl&gt;</th><th scope=col>&lt;chr&gt;</th></tr>\n",
       "</thead>\n",
       "<tbody>\n",
       "\t<tr><td>14</td><td>rmse</td><td>standard</td><td>121.8198</td><td>5</td><td>6.941103</td><td>Preprocessor1_Model14</td></tr>\n",
       "</tbody>\n",
       "</table>\n"
      ],
      "text/latex": [
       "A tibble: 1 × 7\n",
       "\\begin{tabular}{lllllll}\n",
       " neighbors & .metric & .estimator & mean & n & std\\_err & .config\\\\\n",
       " <int> & <chr> & <chr> & <dbl> & <int> & <dbl> & <chr>\\\\\n",
       "\\hline\n",
       "\t 14 & rmse & standard & 121.8198 & 5 & 6.941103 & Preprocessor1\\_Model14\\\\\n",
       "\\end{tabular}\n"
      ],
      "text/markdown": [
       "\n",
       "A tibble: 1 × 7\n",
       "\n",
       "| neighbors &lt;int&gt; | .metric &lt;chr&gt; | .estimator &lt;chr&gt; | mean &lt;dbl&gt; | n &lt;int&gt; | std_err &lt;dbl&gt; | .config &lt;chr&gt; |\n",
       "|---|---|---|---|---|---|---|\n",
       "| 14 | rmse | standard | 121.8198 | 5 | 6.941103 | Preprocessor1_Model14 |\n",
       "\n"
      ],
      "text/plain": [
       "  neighbors .metric .estimator mean     n std_err  .config              \n",
       "1 14        rmse    standard   121.8198 5 6.941103 Preprocessor1_Model14"
      ]
     },
     "metadata": {},
     "output_type": "display_data"
    }
   ],
   "source": [
    "#REDO for Predictor: Height\n",
    "#model, recipe, cross-validation \n",
    "\n",
    "tennis_height_recipe <- recipe(Current.Rank ~ Height, data = tennis_training) |>  \n",
    "            step_scale(all_predictors()) |>  \n",
    "            step_center(all_predictors())\n",
    "\n",
    "tennis_height_vfold <- vfold_cv(tennis_training, v = 5, strata = Current.Rank)\n",
    "\n",
    "tennis_height_wkflw <- workflow() |>  add_recipe(tennis_height_recipe) |>  add_model(knn_spec)\n",
    "\n",
    "#gridvals <- tibble(neighbors = seq(1, 66))\n",
    "\n",
    "tennis_height_results <- tennis_height_wkflw |>\n",
    "             tune_grid(resamples = tennis_height_vfold, grid = 65) |>\n",
    "             collect_metrics() |>\n",
    "             filter(.metric == \"rmse\")\n",
    "\n",
    "tennis_height_min <- tennis_age_results |>  filter(mean == min(mean))\n",
    "tennis_height_min"
   ]
  },
  {
   "cell_type": "code",
   "execution_count": 7,
   "id": "eade4476-7350-43fe-8546-13c4d2f0a53e",
   "metadata": {},
   "outputs": [
    {
     "data": {
      "text/html": [
       "133.058640695745"
      ],
      "text/latex": [
       "133.058640695745"
      ],
      "text/markdown": [
       "133.058640695745"
      ],
      "text/plain": [
       "[1] 133.0586"
      ]
     },
     "metadata": {},
     "output_type": "display_data"
    }
   ],
   "source": [
    "#re-train KNN regression model on the training data set\n",
    "tennis_height_spec <- nearest_neighbor(weight_func = \"rectangular\", neighbors = 15) |>  \n",
    "            set_engine(\"kknn\") |>  \n",
    "            set_mode(\"regression\")\n",
    "\n",
    "tennis_height_fit <- workflow() |>  \n",
    "        add_recipe(tennis_height_recipe) |>  \n",
    "        add_model(tennis_height_spec) |>  \n",
    "        fit(data = tennis_training)\n",
    "\n",
    "#predict rmpse with testing\n",
    "tennis_height_rmspe <- tennis_height_fit |>  \n",
    "            predict(tennis_testing) |>  \n",
    "            bind_cols(tennis_testing) |>  \n",
    "            metrics(truth = Current.Rank, estimate = .pred) |>  \n",
    "            filter(.metric == 'rmse') |>\n",
    "            select(.estimate) |>\n",
    "            pull()\n",
    "tennis_height_rmspe"
   ]
  },
  {
   "cell_type": "code",
   "execution_count": 8,
   "id": "0a9760d2-e7da-4954-b1ec-2d988f2ed3fd",
   "metadata": {},
   "outputs": [
    {
     "data": {
      "text/html": [
       "<table class=\"dataframe\">\n",
       "<caption>A tibble: 1 × 7</caption>\n",
       "<thead>\n",
       "\t<tr><th scope=col>neighbors</th><th scope=col>.metric</th><th scope=col>.estimator</th><th scope=col>mean</th><th scope=col>n</th><th scope=col>std_err</th><th scope=col>.config</th></tr>\n",
       "\t<tr><th scope=col>&lt;int&gt;</th><th scope=col>&lt;chr&gt;</th><th scope=col>&lt;chr&gt;</th><th scope=col>&lt;dbl&gt;</th><th scope=col>&lt;int&gt;</th><th scope=col>&lt;dbl&gt;</th><th scope=col>&lt;chr&gt;</th></tr>\n",
       "</thead>\n",
       "<tbody>\n",
       "\t<tr><td>15</td><td>rmse</td><td>standard</td><td>124.4717</td><td>5</td><td>3.385288</td><td>Preprocessor1_Model15</td></tr>\n",
       "</tbody>\n",
       "</table>\n"
      ],
      "text/latex": [
       "A tibble: 1 × 7\n",
       "\\begin{tabular}{lllllll}\n",
       " neighbors & .metric & .estimator & mean & n & std\\_err & .config\\\\\n",
       " <int> & <chr> & <chr> & <dbl> & <int> & <dbl> & <chr>\\\\\n",
       "\\hline\n",
       "\t 15 & rmse & standard & 124.4717 & 5 & 3.385288 & Preprocessor1\\_Model15\\\\\n",
       "\\end{tabular}\n"
      ],
      "text/markdown": [
       "\n",
       "A tibble: 1 × 7\n",
       "\n",
       "| neighbors &lt;int&gt; | .metric &lt;chr&gt; | .estimator &lt;chr&gt; | mean &lt;dbl&gt; | n &lt;int&gt; | std_err &lt;dbl&gt; | .config &lt;chr&gt; |\n",
       "|---|---|---|---|---|---|---|\n",
       "| 15 | rmse | standard | 124.4717 | 5 | 3.385288 | Preprocessor1_Model15 |\n",
       "\n"
      ],
      "text/plain": [
       "  neighbors .metric .estimator mean     n std_err  .config              \n",
       "1 15        rmse    standard   124.4717 5 3.385288 Preprocessor1_Model15"
      ]
     },
     "metadata": {},
     "output_type": "display_data"
    }
   ],
   "source": [
    "#Now see what RMSPE is using both predictors: Age and Height\n",
    "\n",
    "tennis_both_recipe <- recipe(Current.Rank ~ Age + Height, data = tennis_training) |>  \n",
    "            step_scale(all_predictors()) |>  \n",
    "            step_center(all_predictors())\n",
    "\n",
    "tennis_both_vfold <- vfold_cv(tennis_training, v = 5, strata = Current.Rank)\n",
    "\n",
    "tennis_both_wkflw <- workflow() |>  add_recipe(tennis_both_recipe) |>  add_model(knn_spec)\n",
    "\n",
    "#gridvals <- tibble(neighbors = seq(1, 66))\n",
    "\n",
    "tennis_both_results <- tennis_both_wkflw |>\n",
    "             tune_grid(resamples = tennis_both_vfold, grid = 65) |>\n",
    "             collect_metrics() |>\n",
    "             filter(.metric == \"rmse\")\n",
    "\n",
    "tennis_both_min <- tennis_both_results |>  filter(mean == min(mean))\n",
    "tennis_both_min"
   ]
  },
  {
   "cell_type": "code",
   "execution_count": 9,
   "id": "993a65b3-a091-4eae-968b-7a0a944e7be3",
   "metadata": {},
   "outputs": [
    {
     "data": {
      "text/html": [
       "127.057541786118"
      ],
      "text/latex": [
       "127.057541786118"
      ],
      "text/markdown": [
       "127.057541786118"
      ],
      "text/plain": [
       "[1] 127.0575"
      ]
     },
     "metadata": {},
     "output_type": "display_data"
    }
   ],
   "source": [
    "#re-train KNN regression model on the training data set\n",
    "tennis_both_spec <- nearest_neighbor(weight_func = \"rectangular\", neighbors = 15) |>  \n",
    "            set_engine(\"kknn\") |>  \n",
    "            set_mode(\"regression\")\n",
    "\n",
    "tennis_both_fit <- workflow() |>  \n",
    "        add_recipe(tennis_both_recipe) |>  \n",
    "        add_model(tennis_both_spec) |>  \n",
    "        fit(data = tennis_training)\n",
    "\n",
    "#predict rmpse with testing\n",
    "tennis_both_rmspe <- tennis_both_fit |>  \n",
    "            predict(tennis_testing) |>  \n",
    "            bind_cols(tennis_testing) |>  \n",
    "            metrics(truth = Current.Rank, estimate = .pred) |>  \n",
    "            filter(.metric == 'rmse') |>\n",
    "            select(.estimate) |>\n",
    "            pull()\n",
    "tennis_both_rmspe"
   ]
  },
  {
   "cell_type": "code",
   "execution_count": 10,
   "id": "5cf82748-8689-4c5f-8e8b-4d45697e5e03",
   "metadata": {},
   "outputs": [],
   "source": [
    "#We see that using both the age and height predictors together gives us the smallest root mean square prediction error (RMSPE). \n",
    "#Therefore, we will model the predictions of current rank using both height and age predictor variables."
   ]
  },
  {
   "cell_type": "code",
   "execution_count": 11,
   "id": "8272f297-b3ee-4624-828a-0ce8b77c804b",
   "metadata": {},
   "outputs": [],
   "source": [
    "#3D Plot to visualize findings"
   ]
  },
  {
   "cell_type": "code",
   "execution_count": null,
   "id": "73eb0cfb-fcf2-4f33-947c-f067ff099a40",
   "metadata": {},
   "outputs": [],
   "source": []
  }
 ],
 "metadata": {
  "kernelspec": {
   "display_name": "R",
   "language": "R",
   "name": "ir"
  },
  "language_info": {
   "codemirror_mode": "r",
   "file_extension": ".r",
   "mimetype": "text/x-r-source",
   "name": "R",
   "pygments_lexer": "r",
   "version": "4.1.3"
  }
 },
 "nbformat": 4,
 "nbformat_minor": 5
}
