{
 "cells": [
  {
   "cell_type": "code",
   "execution_count": 1,
   "id": "98fe6b3f",
   "metadata": {},
   "outputs": [
    {
     "name": "stderr",
     "output_type": "stream",
     "text": [
      "── \u001b[1mAttaching packages\u001b[22m ─────────────────────────────────────── tidyverse 1.3.1 ──\n",
      "\n",
      "\u001b[32m✔\u001b[39m \u001b[34mggplot2\u001b[39m 3.3.6     \u001b[32m✔\u001b[39m \u001b[34mpurrr  \u001b[39m 0.3.4\n",
      "\u001b[32m✔\u001b[39m \u001b[34mtibble \u001b[39m 3.1.7     \u001b[32m✔\u001b[39m \u001b[34mdplyr  \u001b[39m 1.0.9\n",
      "\u001b[32m✔\u001b[39m \u001b[34mtidyr  \u001b[39m 1.2.0     \u001b[32m✔\u001b[39m \u001b[34mstringr\u001b[39m 1.4.0\n",
      "\u001b[32m✔\u001b[39m \u001b[34mreadr  \u001b[39m 2.1.2     \u001b[32m✔\u001b[39m \u001b[34mforcats\u001b[39m 0.5.1\n",
      "\n",
      "── \u001b[1mConflicts\u001b[22m ────────────────────────────────────────── tidyverse_conflicts() ──\n",
      "\u001b[31m✖\u001b[39m \u001b[34mdplyr\u001b[39m::\u001b[32mfilter()\u001b[39m masks \u001b[34mstats\u001b[39m::filter()\n",
      "\u001b[31m✖\u001b[39m \u001b[34mdplyr\u001b[39m::\u001b[32mlag()\u001b[39m    masks \u001b[34mstats\u001b[39m::lag()\n",
      "\n",
      "── \u001b[1mAttaching packages\u001b[22m ────────────────────────────────────── tidymodels 1.0.0 ──\n",
      "\n",
      "\u001b[32m✔\u001b[39m \u001b[34mbroom       \u001b[39m 1.0.0     \u001b[32m✔\u001b[39m \u001b[34mrsample     \u001b[39m 1.0.0\n",
      "\u001b[32m✔\u001b[39m \u001b[34mdials       \u001b[39m 1.0.0     \u001b[32m✔\u001b[39m \u001b[34mtune        \u001b[39m 1.0.0\n",
      "\u001b[32m✔\u001b[39m \u001b[34minfer       \u001b[39m 1.0.2     \u001b[32m✔\u001b[39m \u001b[34mworkflows   \u001b[39m 1.0.0\n",
      "\u001b[32m✔\u001b[39m \u001b[34mmodeldata   \u001b[39m 1.0.0     \u001b[32m✔\u001b[39m \u001b[34mworkflowsets\u001b[39m 1.0.0\n",
      "\u001b[32m✔\u001b[39m \u001b[34mparsnip     \u001b[39m 1.0.0     \u001b[32m✔\u001b[39m \u001b[34myardstick   \u001b[39m 1.0.0\n",
      "\u001b[32m✔\u001b[39m \u001b[34mrecipes     \u001b[39m 1.0.1     \n",
      "\n",
      "── \u001b[1mConflicts\u001b[22m ───────────────────────────────────────── tidymodels_conflicts() ──\n",
      "\u001b[31m✖\u001b[39m \u001b[34mscales\u001b[39m::\u001b[32mdiscard()\u001b[39m masks \u001b[34mpurrr\u001b[39m::discard()\n",
      "\u001b[31m✖\u001b[39m \u001b[34mdplyr\u001b[39m::\u001b[32mfilter()\u001b[39m   masks \u001b[34mstats\u001b[39m::filter()\n",
      "\u001b[31m✖\u001b[39m \u001b[34mrecipes\u001b[39m::\u001b[32mfixed()\u001b[39m  masks \u001b[34mstringr\u001b[39m::fixed()\n",
      "\u001b[31m✖\u001b[39m \u001b[34mdplyr\u001b[39m::\u001b[32mlag()\u001b[39m      masks \u001b[34mstats\u001b[39m::lag()\n",
      "\u001b[31m✖\u001b[39m \u001b[34myardstick\u001b[39m::\u001b[32mspec()\u001b[39m masks \u001b[34mreadr\u001b[39m::spec()\n",
      "\u001b[31m✖\u001b[39m \u001b[34mrecipes\u001b[39m::\u001b[32mstep()\u001b[39m   masks \u001b[34mstats\u001b[39m::step()\n",
      "\u001b[34m•\u001b[39m Use \u001b[32mtidymodels_prefer()\u001b[39m to resolve common conflicts.\n",
      "\n"
     ]
    }
   ],
   "source": [
    "# loading libraries\n",
    "\n",
    "library(repr)\n",
    "library(tidyverse)\n",
    "library(tidymodels)\n",
    "\n",
    "options(repr.matrix.max.rows = 6)"
   ]
  },
  {
   "cell_type": "code",
   "execution_count": 39,
   "id": "52ea9128",
   "metadata": {},
   "outputs": [
    {
     "name": "stderr",
     "output_type": "stream",
     "text": [
      "\u001b[1m\u001b[22mNew names:\n",
      "\u001b[36m•\u001b[39m `` -> `...1`\n",
      "\u001b[1mRows: \u001b[22m\u001b[34m500\u001b[39m \u001b[1mColumns: \u001b[22m\u001b[34m38\u001b[39m\n",
      "\u001b[36m──\u001b[39m \u001b[1mColumn specification\u001b[22m \u001b[36m────────────────────────────────────────────────────────\u001b[39m\n",
      "\u001b[1mDelimiter:\u001b[22m \",\"\n",
      "\u001b[31mchr\u001b[39m (25): Age, Country, Plays, Wikipedia, Current Rank, Best Rank, Name, Bac...\n",
      "\u001b[32mdbl\u001b[39m (13): ...1, Turned Pro, Seasons, Titles, Best Season, Retired, Masters, ...\n",
      "\n",
      "\u001b[36mℹ\u001b[39m Use `spec()` to retrieve the full column specification for this data.\n",
      "\u001b[36mℹ\u001b[39m Specify the column types or set `show_col_types = FALSE` to quiet this message.\n"
     ]
    },
    {
     "data": {
      "text/html": [
       "<table class=\"dataframe\">\n",
       "<caption>A tibble: 20 × 7</caption>\n",
       "<thead>\n",
       "\t<tr><th scope=col>Best.Rank</th><th scope=col>Age</th><th scope=col>Height</th><th scope=col>Weight</th><th scope=col>Plays</th><th scope=col>Backhand</th><th scope=col>Favorite.Surface</th></tr>\n",
       "\t<tr><th scope=col>&lt;chr&gt;</th><th scope=col>&lt;chr&gt;</th><th scope=col>&lt;chr&gt;</th><th scope=col>&lt;chr&gt;</th><th scope=col>&lt;chr&gt;</th><th scope=col>&lt;chr&gt;</th><th scope=col>&lt;chr&gt;</th></tr>\n",
       "</thead>\n",
       "<tbody>\n",
       "\t<tr><td>3</td><td>31</td><td>198</td><td>97</td><td>Right-handed</td><td>Two-handed</td><td>All-Rounder</td></tr>\n",
       "\t<tr><td>1</td><td>33</td><td>185</td><td>85</td><td>Left-handed </td><td>Two-handed</td><td>Clay       </td></tr>\n",
       "\t<tr><td>3</td><td>22</td><td>198</td><td>86</td><td>Right-handed</td><td>Two-handed</td><td>Clay       </td></tr>\n",
       "\t<tr><td>⋮</td><td>⋮</td><td>⋮</td><td>⋮</td><td>⋮</td><td>⋮</td><td>⋮</td></tr>\n",
       "\t<tr><td>13</td><td>24</td><td>193</td><td>85</td><td>Right-handed</td><td>Two-handed</td><td>Hard</td></tr>\n",
       "\t<tr><td>3 </td><td>29</td><td>196</td><td>98</td><td>Right-handed</td><td>Two-handed</td><td>Fast</td></tr>\n",
       "\t<tr><td>4 </td><td>26</td><td>185</td><td>82</td><td>Right-handed</td><td>One-handed</td><td>Clay</td></tr>\n",
       "</tbody>\n",
       "</table>\n"
      ],
      "text/latex": [
       "A tibble: 20 × 7\n",
       "\\begin{tabular}{lllllll}\n",
       " Best.Rank & Age & Height & Weight & Plays & Backhand & Favorite.Surface\\\\\n",
       " <chr> & <chr> & <chr> & <chr> & <chr> & <chr> & <chr>\\\\\n",
       "\\hline\n",
       "\t 3 & 31 & 198 & 97 & Right-handed & Two-handed & All-Rounder\\\\\n",
       "\t 1 & 33 & 185 & 85 & Left-handed  & Two-handed & Clay       \\\\\n",
       "\t 3 & 22 & 198 & 86 & Right-handed & Two-handed & Clay       \\\\\n",
       "\t ⋮ & ⋮ & ⋮ & ⋮ & ⋮ & ⋮ & ⋮\\\\\n",
       "\t 13 & 24 & 193 & 85 & Right-handed & Two-handed & Hard\\\\\n",
       "\t 3  & 29 & 196 & 98 & Right-handed & Two-handed & Fast\\\\\n",
       "\t 4  & 26 & 185 & 82 & Right-handed & One-handed & Clay\\\\\n",
       "\\end{tabular}\n"
      ],
      "text/markdown": [
       "\n",
       "A tibble: 20 × 7\n",
       "\n",
       "| Best.Rank &lt;chr&gt; | Age &lt;chr&gt; | Height &lt;chr&gt; | Weight &lt;chr&gt; | Plays &lt;chr&gt; | Backhand &lt;chr&gt; | Favorite.Surface &lt;chr&gt; |\n",
       "|---|---|---|---|---|---|---|\n",
       "| 3 | 31 | 198 | 97 | Right-handed | Two-handed | All-Rounder |\n",
       "| 1 | 33 | 185 | 85 | Left-handed  | Two-handed | Clay        |\n",
       "| 3 | 22 | 198 | 86 | Right-handed | Two-handed | Clay        |\n",
       "| ⋮ | ⋮ | ⋮ | ⋮ | ⋮ | ⋮ | ⋮ |\n",
       "| 13 | 24 | 193 | 85 | Right-handed | Two-handed | Hard |\n",
       "| 3  | 29 | 196 | 98 | Right-handed | Two-handed | Fast |\n",
       "| 4  | 26 | 185 | 82 | Right-handed | One-handed | Clay |\n",
       "\n"
      ],
      "text/plain": [
       "   Best.Rank Age Height Weight Plays        Backhand   Favorite.Surface\n",
       "1  3         31  198    97     Right-handed Two-handed All-Rounder     \n",
       "2  1         33  185    85     Left-handed  Two-handed Clay            \n",
       "3  3         22  198    86     Right-handed Two-handed Clay            \n",
       "⋮  ⋮         ⋮   ⋮      ⋮      ⋮            ⋮          ⋮               \n",
       "18 13        24  193    85     Right-handed Two-handed Hard            \n",
       "19 3         29  196    98     Right-handed Two-handed Fast            \n",
       "20 4         26  185    82     Right-handed One-handed Clay            "
      ]
     },
     "metadata": {},
     "output_type": "display_data"
    }
   ],
   "source": [
    "# reading data (from https://www.ultimatetennisstatistics.com/)\n",
    "\n",
    "tennis_data <- read_csv(\"data/player_stats.csv\")\n",
    "\n",
    "# organizing/tidying data\n",
    "\n",
    "colnames(tennis_data) = make.names(colnames(tennis_data))\n",
    "\n",
    "tennis <- tennis_data |>\n",
    "            # select(Age, Plays, Best.Rank, Backhand, Height, Favorite.Surface) |>  # Weight and Coach seem relevant, however there are too many missing values\n",
    "            select(Best.Rank, Age, Height, Weight, Plays, Backhand, Favorite.Surface) |>\n",
    "            mutate(across(everything(), function(col) {gsub(\" .*\", \"\", col)})) |>\n",
    "            drop_na()\n",
    "      \n",
    "tennis"
   ]
  }
 ],
 "metadata": {
  "kernelspec": {
   "display_name": "R",
   "language": "R",
   "name": "ir"
  },
  "language_info": {
   "codemirror_mode": "r",
   "file_extension": ".r",
   "mimetype": "text/x-r-source",
   "name": "R",
   "pygments_lexer": "r",
   "version": "4.1.3"
  }
 },
 "nbformat": 4,
 "nbformat_minor": 5
}
