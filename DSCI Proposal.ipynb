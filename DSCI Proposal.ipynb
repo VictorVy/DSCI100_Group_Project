{
 "cells": [
  {
   "cell_type": "code",
   "execution_count": 4,
   "id": "98fe6b3f",
   "metadata": {},
   "outputs": [
    {
     "name": "stderr",
     "output_type": "stream",
     "text": [
      "── \u001b[1mAttaching packages\u001b[22m ─────────────────────────────────────── tidyverse 1.3.1 ──\n",
      "\n",
      "\u001b[32m✔\u001b[39m \u001b[34mggplot2\u001b[39m 3.3.6     \u001b[32m✔\u001b[39m \u001b[34mpurrr  \u001b[39m 0.3.4\n",
      "\u001b[32m✔\u001b[39m \u001b[34mtibble \u001b[39m 3.1.7     \u001b[32m✔\u001b[39m \u001b[34mdplyr  \u001b[39m 1.0.9\n",
      "\u001b[32m✔\u001b[39m \u001b[34mtidyr  \u001b[39m 1.2.0     \u001b[32m✔\u001b[39m \u001b[34mstringr\u001b[39m 1.4.0\n",
      "\u001b[32m✔\u001b[39m \u001b[34mreadr  \u001b[39m 2.1.2     \u001b[32m✔\u001b[39m \u001b[34mforcats\u001b[39m 0.5.1\n",
      "\n",
      "── \u001b[1mConflicts\u001b[22m ────────────────────────────────────────── tidyverse_conflicts() ──\n",
      "\u001b[31m✖\u001b[39m \u001b[34mdplyr\u001b[39m::\u001b[32mfilter()\u001b[39m masks \u001b[34mstats\u001b[39m::filter()\n",
      "\u001b[31m✖\u001b[39m \u001b[34mdplyr\u001b[39m::\u001b[32mlag()\u001b[39m    masks \u001b[34mstats\u001b[39m::lag()\n",
      "\n",
      "── \u001b[1mAttaching packages\u001b[22m ────────────────────────────────────── tidymodels 1.0.0 ──\n",
      "\n",
      "\u001b[32m✔\u001b[39m \u001b[34mbroom       \u001b[39m 1.0.0     \u001b[32m✔\u001b[39m \u001b[34mrsample     \u001b[39m 1.0.0\n",
      "\u001b[32m✔\u001b[39m \u001b[34mdials       \u001b[39m 1.0.0     \u001b[32m✔\u001b[39m \u001b[34mtune        \u001b[39m 1.0.0\n",
      "\u001b[32m✔\u001b[39m \u001b[34minfer       \u001b[39m 1.0.2     \u001b[32m✔\u001b[39m \u001b[34mworkflows   \u001b[39m 1.0.0\n",
      "\u001b[32m✔\u001b[39m \u001b[34mmodeldata   \u001b[39m 1.0.0     \u001b[32m✔\u001b[39m \u001b[34mworkflowsets\u001b[39m 1.0.0\n",
      "\u001b[32m✔\u001b[39m \u001b[34mparsnip     \u001b[39m 1.0.0     \u001b[32m✔\u001b[39m \u001b[34myardstick   \u001b[39m 1.0.0\n",
      "\u001b[32m✔\u001b[39m \u001b[34mrecipes     \u001b[39m 1.0.1     \n",
      "\n",
      "── \u001b[1mConflicts\u001b[22m ───────────────────────────────────────── tidymodels_conflicts() ──\n",
      "\u001b[31m✖\u001b[39m \u001b[34mscales\u001b[39m::\u001b[32mdiscard()\u001b[39m masks \u001b[34mpurrr\u001b[39m::discard()\n",
      "\u001b[31m✖\u001b[39m \u001b[34mdplyr\u001b[39m::\u001b[32mfilter()\u001b[39m   masks \u001b[34mstats\u001b[39m::filter()\n",
      "\u001b[31m✖\u001b[39m \u001b[34mrecipes\u001b[39m::\u001b[32mfixed()\u001b[39m  masks \u001b[34mstringr\u001b[39m::fixed()\n",
      "\u001b[31m✖\u001b[39m \u001b[34mdplyr\u001b[39m::\u001b[32mlag()\u001b[39m      masks \u001b[34mstats\u001b[39m::lag()\n",
      "\u001b[31m✖\u001b[39m \u001b[34myardstick\u001b[39m::\u001b[32mspec()\u001b[39m masks \u001b[34mreadr\u001b[39m::spec()\n",
      "\u001b[31m✖\u001b[39m \u001b[34mrecipes\u001b[39m::\u001b[32mstep()\u001b[39m   masks \u001b[34mstats\u001b[39m::step()\n",
      "\u001b[34m•\u001b[39m Use \u001b[32mtidymodels_prefer()\u001b[39m to resolve common conflicts.\n",
      "\n"
     ]
    }
   ],
   "source": [
    "library(repr)\n",
    "library(tidyverse)\n",
    "library(tidymodels)\n",
    "options(repr.matrix.max.rows = 6)"
   ]
  },
  {
   "cell_type": "code",
   "execution_count": 9,
   "id": "52ea9128",
   "metadata": {},
   "outputs": [
    {
     "name": "stderr",
     "output_type": "stream",
     "text": [
      "\u001b[1m\u001b[22mNew names:\n",
      "\u001b[36m•\u001b[39m `` -> `...1`\n",
      "\u001b[1mRows: \u001b[22m\u001b[34m500\u001b[39m \u001b[1mColumns: \u001b[22m\u001b[34m38\u001b[39m\n",
      "\u001b[36m──\u001b[39m \u001b[1mColumn specification\u001b[22m \u001b[36m────────────────────────────────────────────────────────\u001b[39m\n",
      "\u001b[1mDelimiter:\u001b[22m \",\"\n",
      "\u001b[31mchr\u001b[39m (25): Age, Country, Plays, Wikipedia, Current Rank, Best Rank, Name, Bac...\n",
      "\u001b[32mdbl\u001b[39m (13): ...1, Turned Pro, Seasons, Titles, Best Season, Retired, Masters, ...\n",
      "\n",
      "\u001b[36mℹ\u001b[39m Use `spec()` to retrieve the full column specification for this data.\n",
      "\u001b[36mℹ\u001b[39m Specify the column types or set `show_col_types = FALSE` to quiet this message.\n"
     ]
    }
   ],
   "source": [
    "tennis_data <- read_csv(\"data/player_stats.csv\")"
   ]
  },
  {
   "cell_type": "code",
   "execution_count": 14,
   "id": "46d98f88",
   "metadata": {},
   "outputs": [
    {
     "data": {
      "text/html": [
       "<style>\n",
       ".list-inline {list-style: none; margin:0; padding: 0}\n",
       ".list-inline>li {display: inline-block}\n",
       ".list-inline>li:not(:last-child)::after {content: \"\\00b7\"; padding: 0 .5ex}\n",
       "</style>\n",
       "<ol class=list-inline><li>'...1'</li><li>'Age'</li><li>'Country'</li><li>'Plays'</li><li>'Wikipedia'</li><li>'Current Rank'</li><li>'Best Rank'</li><li>'Name'</li><li>'Backhand'</li><li>'Prize Money'</li><li>'Height'</li><li>'Favorite Surface'</li><li>'Turned Pro'</li><li>'Seasons'</li><li>'Active'</li><li>'Current Elo Rank'</li><li>'Best Elo Rank'</li><li>'Peak Elo Rating'</li><li>'Last Appearance'</li><li>'Titles'</li><li>'GOAT Rank'</li><li>'Best Season'</li><li>'Retired'</li><li>'Masters'</li><li>'Birthplace'</li><li>'Residence'</li><li>'Weight'</li><li>'Coach'</li><li>'Facebook'</li><li>'Twitter'</li><li>'Nicknames'</li><li>'Grand Slams'</li><li>'Davis Cups'</li><li>'Web Site'</li><li>'Team Cups'</li><li>'Olympics'</li><li>'Weeks at No. 1'</li><li>'Tour Finals'</li></ol>\n"
      ],
      "text/latex": [
       "\\begin{enumerate*}\n",
       "\\item '...1'\n",
       "\\item 'Age'\n",
       "\\item 'Country'\n",
       "\\item 'Plays'\n",
       "\\item 'Wikipedia'\n",
       "\\item 'Current Rank'\n",
       "\\item 'Best Rank'\n",
       "\\item 'Name'\n",
       "\\item 'Backhand'\n",
       "\\item 'Prize Money'\n",
       "\\item 'Height'\n",
       "\\item 'Favorite Surface'\n",
       "\\item 'Turned Pro'\n",
       "\\item 'Seasons'\n",
       "\\item 'Active'\n",
       "\\item 'Current Elo Rank'\n",
       "\\item 'Best Elo Rank'\n",
       "\\item 'Peak Elo Rating'\n",
       "\\item 'Last Appearance'\n",
       "\\item 'Titles'\n",
       "\\item 'GOAT Rank'\n",
       "\\item 'Best Season'\n",
       "\\item 'Retired'\n",
       "\\item 'Masters'\n",
       "\\item 'Birthplace'\n",
       "\\item 'Residence'\n",
       "\\item 'Weight'\n",
       "\\item 'Coach'\n",
       "\\item 'Facebook'\n",
       "\\item 'Twitter'\n",
       "\\item 'Nicknames'\n",
       "\\item 'Grand Slams'\n",
       "\\item 'Davis Cups'\n",
       "\\item 'Web Site'\n",
       "\\item 'Team Cups'\n",
       "\\item 'Olympics'\n",
       "\\item 'Weeks at No. 1'\n",
       "\\item 'Tour Finals'\n",
       "\\end{enumerate*}\n"
      ],
      "text/markdown": [
       "1. '...1'\n",
       "2. 'Age'\n",
       "3. 'Country'\n",
       "4. 'Plays'\n",
       "5. 'Wikipedia'\n",
       "6. 'Current Rank'\n",
       "7. 'Best Rank'\n",
       "8. 'Name'\n",
       "9. 'Backhand'\n",
       "10. 'Prize Money'\n",
       "11. 'Height'\n",
       "12. 'Favorite Surface'\n",
       "13. 'Turned Pro'\n",
       "14. 'Seasons'\n",
       "15. 'Active'\n",
       "16. 'Current Elo Rank'\n",
       "17. 'Best Elo Rank'\n",
       "18. 'Peak Elo Rating'\n",
       "19. 'Last Appearance'\n",
       "20. 'Titles'\n",
       "21. 'GOAT Rank'\n",
       "22. 'Best Season'\n",
       "23. 'Retired'\n",
       "24. 'Masters'\n",
       "25. 'Birthplace'\n",
       "26. 'Residence'\n",
       "27. 'Weight'\n",
       "28. 'Coach'\n",
       "29. 'Facebook'\n",
       "30. 'Twitter'\n",
       "31. 'Nicknames'\n",
       "32. 'Grand Slams'\n",
       "33. 'Davis Cups'\n",
       "34. 'Web Site'\n",
       "35. 'Team Cups'\n",
       "36. 'Olympics'\n",
       "37. 'Weeks at No. 1'\n",
       "38. 'Tour Finals'\n",
       "\n",
       "\n"
      ],
      "text/plain": [
       " [1] \"...1\"             \"Age\"              \"Country\"          \"Plays\"           \n",
       " [5] \"Wikipedia\"        \"Current Rank\"     \"Best Rank\"        \"Name\"            \n",
       " [9] \"Backhand\"         \"Prize Money\"      \"Height\"           \"Favorite Surface\"\n",
       "[13] \"Turned Pro\"       \"Seasons\"          \"Active\"           \"Current Elo Rank\"\n",
       "[17] \"Best Elo Rank\"    \"Peak Elo Rating\"  \"Last Appearance\"  \"Titles\"          \n",
       "[21] \"GOAT Rank\"        \"Best Season\"      \"Retired\"          \"Masters\"         \n",
       "[25] \"Birthplace\"       \"Residence\"        \"Weight\"           \"Coach\"           \n",
       "[29] \"Facebook\"         \"Twitter\"          \"Nicknames\"        \"Grand Slams\"     \n",
       "[33] \"Davis Cups\"       \"Web Site\"         \"Team Cups\"        \"Olympics\"        \n",
       "[37] \"Weeks at No. 1\"   \"Tour Finals\"     "
      ]
     },
     "metadata": {},
     "output_type": "display_data"
    }
   ],
   "source": [
    "colnames(tennis_data)"
   ]
  },
  {
   "cell_type": "code",
   "execution_count": 15,
   "id": "85dc2fcc",
   "metadata": {},
   "outputs": [
    {
     "ename": "ERROR",
     "evalue": "\u001b[1m\u001b[33mError\u001b[39m in \u001b[1m\u001b[1m`filter()`:\u001b[22m\n\u001b[1m\u001b[22m\u001b[33m!\u001b[39m Problem while computing `..1 = Age.`.\n\u001b[1mCaused by error in \u001b[1m\u001b[1m`mask$eval_all_filter()`:\u001b[22m\n\u001b[33m!\u001b[39m object 'Age.' not found\n",
     "output_type": "error",
     "traceback": [
      "\u001b[1m\u001b[33mError\u001b[39m in \u001b[1m\u001b[1m`filter()`:\u001b[22m\n\u001b[1m\u001b[22m\u001b[33m!\u001b[39m Problem while computing `..1 = Age.`.\n\u001b[1mCaused by error in \u001b[1m\u001b[1m`mask$eval_all_filter()`:\u001b[22m\n\u001b[33m!\u001b[39m object 'Age.' not found\nTraceback:\n",
      "1. tennis_data %>% filter(Age.)",
      "2. filter(., Age.)",
      "3. filter.data.frame(., Age.)",
      "4. filter_rows(.data, ..., caller_env = caller_env())",
      "5. filter_eval(dots, mask = mask, error_call = error_call)",
      "6. withCallingHandlers({\n .     mask$eval_all_filter(dots, env_filter)\n . }, error = function(e) {\n .     local_error_context(dots = dots, .index = env_filter$current_expression, \n .         mask = mask)\n .     bullets <- c(cnd_bullet_header(\"computing\"), filter_bullets(e))\n .     abort(bullets, call = error_call, parent = skip_internal_condition(e))\n . })",
      "7. mask$eval_all_filter(dots, env_filter)",
      "8. .handleSimpleError(function (e) \n . {\n .     local_error_context(dots = dots, .index = env_filter$current_expression, \n .         mask = mask)\n .     bullets <- c(cnd_bullet_header(\"computing\"), filter_bullets(e))\n .     abort(bullets, call = error_call, parent = skip_internal_condition(e))\n . }, \"object 'Age.' not found\", base::quote(mask$eval_all_filter(dots, \n .     env_filter)))",
      "9. h(simpleError(msg, call))",
      "10. abort(bullets, call = error_call, parent = skip_internal_condition(e))",
      "11. signal_abort(cnd, .file)"
     ]
    }
   ],
   "source": [
    "filtered_tennis_data <- tennis_data %>% filter(Age.)"
   ]
  }
 ],
 "metadata": {
  "kernelspec": {
   "display_name": "R",
   "language": "R",
   "name": "ir"
  },
  "language_info": {
   "codemirror_mode": "r",
   "file_extension": ".r",
   "mimetype": "text/x-r-source",
   "name": "R",
   "pygments_lexer": "r",
   "version": "4.1.3"
  }
 },
 "nbformat": 4,
 "nbformat_minor": 5
}
